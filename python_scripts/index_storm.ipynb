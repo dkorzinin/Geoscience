{
 "cells": [
  {
   "cell_type": "code",
   "execution_count": 45,
   "id": "9cd211f9",
   "metadata": {},
   "outputs": [],
   "source": [
    "import pandas as pd\n",
    "import seaborn as sns\n",
    "import matplotlib.pyplot as plt\n",
    "import numpy as np"
   ]
  },
  {
   "cell_type": "code",
   "execution_count": 46,
   "id": "a97ad81c",
   "metadata": {},
   "outputs": [],
   "source": [
    "df = pd.read_csv('matrix.txt', header = None)\n",
    "col = ['storm_id', 'month', 'maxh', 'long', 'peakt', 'longabou', 'meanabou', 'medabou', 'stdabou']\n",
    "df.columns = col\n",
    "# содержание файл\n",
    "# storm_id - id шторма\n",
    "# month - месяц\n",
    "# maxh - максимальная высота волны\n",
    "# long - продолжительность шторма\n",
    "# peakt - время наступления пика\n",
    "# longabou - продолжительность стадии затухания\n",
    "# meanabou - средняя высота волны стадии затухания\n",
    "# meadabou - медианная высота волны стадии затухания\n",
    "# стандартное отклонение стадии затухания"
   ]
  },
  {
   "cell_type": "code",
   "execution_count": 47,
   "id": "20f08664",
   "metadata": {},
   "outputs": [
    {
     "data": {
      "text/html": [
       "<div>\n",
       "<style scoped>\n",
       "    .dataframe tbody tr th:only-of-type {\n",
       "        vertical-align: middle;\n",
       "    }\n",
       "\n",
       "    .dataframe tbody tr th {\n",
       "        vertical-align: top;\n",
       "    }\n",
       "\n",
       "    .dataframe thead th {\n",
       "        text-align: right;\n",
       "    }\n",
       "</style>\n",
       "<table border=\"1\" class=\"dataframe\">\n",
       "  <thead>\n",
       "    <tr style=\"text-align: right;\">\n",
       "      <th></th>\n",
       "      <th>storm_id</th>\n",
       "      <th>month</th>\n",
       "      <th>maxh</th>\n",
       "      <th>long</th>\n",
       "      <th>peakt</th>\n",
       "      <th>longabou</th>\n",
       "      <th>meanabou</th>\n",
       "      <th>medabou</th>\n",
       "      <th>stdabou</th>\n",
       "    </tr>\n",
       "  </thead>\n",
       "  <tbody>\n",
       "    <tr>\n",
       "      <th>0</th>\n",
       "      <td>1</td>\n",
       "      <td>1</td>\n",
       "      <td>2.5460</td>\n",
       "      <td>21</td>\n",
       "      <td>0</td>\n",
       "      <td>21</td>\n",
       "      <td>1.7784</td>\n",
       "      <td>1.7440</td>\n",
       "      <td>0.49789</td>\n",
       "    </tr>\n",
       "    <tr>\n",
       "      <th>1</th>\n",
       "      <td>2</td>\n",
       "      <td>1</td>\n",
       "      <td>2.4001</td>\n",
       "      <td>30</td>\n",
       "      <td>12</td>\n",
       "      <td>18</td>\n",
       "      <td>1.6663</td>\n",
       "      <td>1.5964</td>\n",
       "      <td>0.52874</td>\n",
       "    </tr>\n",
       "    <tr>\n",
       "      <th>2</th>\n",
       "      <td>3</td>\n",
       "      <td>1</td>\n",
       "      <td>1.8282</td>\n",
       "      <td>30</td>\n",
       "      <td>9</td>\n",
       "      <td>21</td>\n",
       "      <td>1.3331</td>\n",
       "      <td>1.2617</td>\n",
       "      <td>0.24583</td>\n",
       "    </tr>\n",
       "    <tr>\n",
       "      <th>3</th>\n",
       "      <td>4</td>\n",
       "      <td>1</td>\n",
       "      <td>1.9557</td>\n",
       "      <td>33</td>\n",
       "      <td>9</td>\n",
       "      <td>24</td>\n",
       "      <td>1.4245</td>\n",
       "      <td>1.2883</td>\n",
       "      <td>0.27216</td>\n",
       "    </tr>\n",
       "    <tr>\n",
       "      <th>4</th>\n",
       "      <td>5</td>\n",
       "      <td>2</td>\n",
       "      <td>2.1852</td>\n",
       "      <td>33</td>\n",
       "      <td>21</td>\n",
       "      <td>12</td>\n",
       "      <td>1.3783</td>\n",
       "      <td>1.3091</td>\n",
       "      <td>0.35488</td>\n",
       "    </tr>\n",
       "  </tbody>\n",
       "</table>\n",
       "</div>"
      ],
      "text/plain": [
       "   storm_id  month    maxh  long  peakt  longabou  meanabou  medabou  stdabou\n",
       "0         1      1  2.5460    21      0        21    1.7784   1.7440  0.49789\n",
       "1         2      1  2.4001    30     12        18    1.6663   1.5964  0.52874\n",
       "2         3      1  1.8282    30      9        21    1.3331   1.2617  0.24583\n",
       "3         4      1  1.9557    33      9        24    1.4245   1.2883  0.27216\n",
       "4         5      2  2.1852    33     21        12    1.3783   1.3091  0.35488"
      ]
     },
     "execution_count": 47,
     "metadata": {},
     "output_type": "execute_result"
    }
   ],
   "source": [
    "df.head()"
   ]
  },
  {
   "cell_type": "code",
   "execution_count": 48,
   "id": "7d6f2607",
   "metadata": {},
   "outputs": [],
   "source": [
    "# вычисляем дополнительные колонки\n",
    "# коэффициент размыва R\n",
    "df['relmean'] = df.maxh/df.meanabou # метрика R относительно среднего\n",
    "df['relmed'] = df.maxh/df.medabou # метрика R относительно медианы"
   ]
  },
  {
   "cell_type": "markdown",
   "id": "405bab51",
   "metadata": {},
   "source": [
    "#### определяем разницу в распределении значений R рассчитанных относительно среднего и относительно медианы"
   ]
  },
  {
   "cell_type": "code",
   "execution_count": 49,
   "id": "bce583a8",
   "metadata": {},
   "outputs": [
    {
     "data": {
      "text/plain": [
       "[Text(0.5, 0, 'R_med')]"
      ]
     },
     "execution_count": 49,
     "metadata": {},
     "output_type": "execute_result"
    },
    {
     "data": {
      "image/png": "[encoded data removed]",
      "text/plain": [
       "<Figure size 864x360 with 2 Axes>"
      ]
     },
     "metadata": {},
     "output_type": "display_data"
    }
   ],
   "source": [
    "sns.set()\n",
    "#define dimensions of subplots (rows, columns)\n",
    "fig, axes = plt.subplots(nrows=1, ncols=2, figsize=(12,5))\n",
    "#create chart in each subplot\n",
    "ak1 = sns.histplot(df['relmean'], kde = False,  bins = 40, color='grey', ax=axes[0])\n",
    "ak2 = sns.histplot(df['relmed'], kde = False, bins = 40, color='grey', ax=axes[1])\n",
    "ak1.set(xlabel=\"R_mean\")\n",
    "ak2.set(xlabel=\"R_med\")"
   ]
  },
  {
   "cell_type": "code",
   "execution_count": 50,
   "id": "4988e702",
   "metadata": {},
   "outputs": [],
   "source": [
    "fig.savefig('R_diff.jpg', dpi=300)"
   ]
  },
  {
   "cell_type": "markdown",
   "id": "1fc91cf5",
   "metadata": {},
   "source": [
    "#### Значение рассчитанные относительно медианы охватывают более широкий диапазон значений, что позволит лучше выявлять различия для разных групп значений данного коэффициента"
   ]
  },
  {
   "cell_type": "code",
   "execution_count": 51,
   "id": "8ab9ba9f",
   "metadata": {},
   "outputs": [
    {
     "data": {
      "text/plain": [
       "[Text(0.5, 0, 'месяц'), Text(0, 0.5, 'R')]"
      ]
     },
     "execution_count": 51,
     "metadata": {},
     "output_type": "execute_result"
    },
    {
     "data": {
      "image/png": "[encoded data removed]",
      "text/plain": [
       "<Figure size 864x576 with 1 Axes>"
      ]
     },
     "metadata": {},
     "output_type": "display_data"
    }
   ],
   "source": [
    "fig = plt.figure(figsize=(12, 8))#изменение размера рисунка\n",
    "sns.boxplot(data=df, \n",
    "            x='month', \n",
    "            y='relmed',\n",
    "            color='grey'\n",
    "            ).set(xlabel='месяц', \n",
    "            ylabel='R'\n",
    "            )"
   ]
  },
  {
   "cell_type": "code",
   "execution_count": 52,
   "id": "9adc563a",
   "metadata": {},
   "outputs": [],
   "source": [
    "fig.savefig('index_storm.jpg', dpi=300)"
   ]
  },
  {
   "cell_type": "code",
   "execution_count": 65,
   "id": "56e7cd95",
   "metadata": {},
   "outputs": [],
   "source": [
    "# добавляем индикатор типа сезона в зависимости от месяца\n",
    "# create a list of our conditions\n",
    "conditions = [\n",
    "    (df['month'] >= 1) & (df['month'] <= 4),\n",
    "    (df['month'] > 4) & (df['month'] < 9),\n",
    "    (df['month'] >= 9) & (df['month'] <= 12)\n",
    "    ]\n",
    "# create a list of the values we want to assign for each condition\n",
    "values = ['штормовой', 'умеренный', 'штормовой']\n",
    "# create a new column and use np.select to assign values to it using our lists as arguments\n",
    "df['season_char'] = np.select(conditions, values)"
   ]
  },
  {
   "cell_type": "code",
   "execution_count": 66,
   "id": "88193465",
   "metadata": {},
   "outputs": [
    {
     "data": {
      "text/html": [
       "<div>\n",
       "<style scoped>\n",
       "    .dataframe tbody tr th:only-of-type {\n",
       "        vertical-align: middle;\n",
       "    }\n",
       "\n",
       "    .dataframe tbody tr th {\n",
       "        vertical-align: top;\n",
       "    }\n",
       "\n",
       "    .dataframe thead th {\n",
       "        text-align: right;\n",
       "    }\n",
       "</style>\n",
       "<table border=\"1\" class=\"dataframe\">\n",
       "  <thead>\n",
       "    <tr style=\"text-align: right;\">\n",
       "      <th></th>\n",
       "      <th>storm_id</th>\n",
       "      <th>month</th>\n",
       "      <th>maxh</th>\n",
       "      <th>long</th>\n",
       "      <th>peakt</th>\n",
       "      <th>longabou</th>\n",
       "      <th>meanabou</th>\n",
       "      <th>medabou</th>\n",
       "      <th>stdabou</th>\n",
       "      <th>relmean</th>\n",
       "      <th>relmed</th>\n",
       "      <th>season_char</th>\n",
       "    </tr>\n",
       "  </thead>\n",
       "  <tbody>\n",
       "    <tr>\n",
       "      <th>0</th>\n",
       "      <td>1</td>\n",
       "      <td>1</td>\n",
       "      <td>2.5460</td>\n",
       "      <td>21</td>\n",
       "      <td>0</td>\n",
       "      <td>21</td>\n",
       "      <td>1.7784</td>\n",
       "      <td>1.7440</td>\n",
       "      <td>0.49789</td>\n",
       "      <td>1.431624</td>\n",
       "      <td>1.459862</td>\n",
       "      <td>штормовой</td>\n",
       "    </tr>\n",
       "    <tr>\n",
       "      <th>1</th>\n",
       "      <td>2</td>\n",
       "      <td>1</td>\n",
       "      <td>2.4001</td>\n",
       "      <td>30</td>\n",
       "      <td>12</td>\n",
       "      <td>18</td>\n",
       "      <td>1.6663</td>\n",
       "      <td>1.5964</td>\n",
       "      <td>0.52874</td>\n",
       "      <td>1.440377</td>\n",
       "      <td>1.503445</td>\n",
       "      <td>штормовой</td>\n",
       "    </tr>\n",
       "    <tr>\n",
       "      <th>2</th>\n",
       "      <td>3</td>\n",
       "      <td>1</td>\n",
       "      <td>1.8282</td>\n",
       "      <td>30</td>\n",
       "      <td>9</td>\n",
       "      <td>21</td>\n",
       "      <td>1.3331</td>\n",
       "      <td>1.2617</td>\n",
       "      <td>0.24583</td>\n",
       "      <td>1.371390</td>\n",
       "      <td>1.448997</td>\n",
       "      <td>штормовой</td>\n",
       "    </tr>\n",
       "    <tr>\n",
       "      <th>3</th>\n",
       "      <td>4</td>\n",
       "      <td>1</td>\n",
       "      <td>1.9557</td>\n",
       "      <td>33</td>\n",
       "      <td>9</td>\n",
       "      <td>24</td>\n",
       "      <td>1.4245</td>\n",
       "      <td>1.2883</td>\n",
       "      <td>0.27216</td>\n",
       "      <td>1.372903</td>\n",
       "      <td>1.518047</td>\n",
       "      <td>штормовой</td>\n",
       "    </tr>\n",
       "    <tr>\n",
       "      <th>4</th>\n",
       "      <td>5</td>\n",
       "      <td>2</td>\n",
       "      <td>2.1852</td>\n",
       "      <td>33</td>\n",
       "      <td>21</td>\n",
       "      <td>12</td>\n",
       "      <td>1.3783</td>\n",
       "      <td>1.3091</td>\n",
       "      <td>0.35488</td>\n",
       "      <td>1.585431</td>\n",
       "      <td>1.669238</td>\n",
       "      <td>штормовой</td>\n",
       "    </tr>\n",
       "  </tbody>\n",
       "</table>\n",
       "</div>"
      ],
      "text/plain": [
       "   storm_id  month    maxh  long  peakt  longabou  meanabou  medabou  stdabou  \\\n",
       "0         1      1  2.5460    21      0        21    1.7784   1.7440  0.49789   \n",
       "1         2      1  2.4001    30     12        18    1.6663   1.5964  0.52874   \n",
       "2         3      1  1.8282    30      9        21    1.3331   1.2617  0.24583   \n",
       "3         4      1  1.9557    33      9        24    1.4245   1.2883  0.27216   \n",
       "4         5      2  2.1852    33     21        12    1.3783   1.3091  0.35488   \n",
       "\n",
       "    relmean    relmed season_char  \n",
       "0  1.431624  1.459862   штормовой  \n",
       "1  1.440377  1.503445   штормовой  \n",
       "2  1.371390  1.448997   штормовой  \n",
       "3  1.372903  1.518047   штормовой  \n",
       "4  1.585431  1.669238   штормовой  "
      ]
     },
     "execution_count": 66,
     "metadata": {},
     "output_type": "execute_result"
    }
   ],
   "source": [
    "df.head()"
   ]
  },
  {
   "cell_type": "code",
   "execution_count": 70,
   "id": "ebe5b543",
   "metadata": {},
   "outputs": [
    {
     "data": {
      "text/plain": [
       "[Text(0.5, 0, 'R'), Text(0, 0.5, 'сезон')]"
      ]
     },
     "execution_count": 70,
     "metadata": {},
     "output_type": "execute_result"
    },
    {
     "data": {
      "image/png": "[encoded data removed]",
      "text/plain": [
       "<Figure size 576x288 with 1 Axes>"
      ]
     },
     "metadata": {},
     "output_type": "display_data"
    }
   ],
   "source": [
    "fig = plt.figure(figsize=(8, 4))#изменение размера рисунка\n",
    "sns.boxplot(data=df, \n",
    "            x=\"relmed\", \n",
    "            y=\"season_char\", \n",
    "            color='grey'\n",
    "            ).set(xlabel='R', \n",
    "            ylabel='сезон'\n",
    "            )"
   ]
  },
  {
   "cell_type": "code",
   "execution_count": 71,
   "id": "aed05f99",
   "metadata": {},
   "outputs": [],
   "source": [
    "fig.savefig('index_season.jpg', dpi=300)"
   ]
  },
  {
   "cell_type": "code",
   "execution_count": null,
   "id": "83fcacab",
   "metadata": {},
   "outputs": [],
   "source": []
  }
 ],
 "metadata": {
  "kernelspec": {
   "display_name": "Python 3",
   "language": "python",
   "name": "python3"
  },
  "language_info": {
   "codemirror_mode": {
    "name": "ipython",
    "version": 3
   },
   "file_extension": ".py",
   "mimetype": "text/x-python",
   "name": "python",
   "nbconvert_exporter": "python",
   "pygments_lexer": "ipython3",
   "version": "3.8.8"
  }
 },
 "nbformat": 4,
 "nbformat_minor": 5
}
